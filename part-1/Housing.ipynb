{
 "cells": [
  {
   "cell_type": "code",
   "execution_count": 6,
   "metadata": {},
   "outputs": [],
   "source": [
    "import os\n",
    "import tarfile\n",
    "from six.moves import urllib\n",
    "DOWNLOAD_ROOT = \"https://raw.githubusercontent.com/ageron/handson-ml2/master/\"\n",
    "HOUSING_PATH = os.path.join(\"datasets\", \"housing\")\n",
    "HOUSING_URL = DOWNLOAD_ROOT + \"datasets/housing/housing.tgz\"\n",
    "\n",
    "def fetch_housing_data(housing_url=HOUSING_URL, housing_path=HOUSING_PATH): \n",
    "    if not os.path.isdir(housing_path):\n",
    "             os.makedirs(housing_path)\n",
    "             tgz_path = os.path.join(housing_path, \"housing.tgz\")\n",
    "             urllib.request.urlretrieve(housing_url, tgz_path)\n",
    "             housing_tgz = tarfile.open(tgz_path)\n",
    "             housing_tgz.extractall(path=housing_path)\n",
    "             housing_tgz.close()"
   ]
  },
  {
   "cell_type": "code",
   "execution_count": 12,
   "metadata": {},
   "outputs": [],
   "source": [
    "import pandas as pd\n",
    "def load_housing_data(housing_path= HOUSING_PATH):\n",
    "    csv_path = os.path.join(housing_path,'housing.csv')\n",
    "    return pd.read_csv(csv_path)"
   ]
  },
  {
   "cell_type": "code",
   "execution_count": 16,
   "metadata": {},
   "outputs": [
    {
     "name": "stdout",
     "output_type": "stream",
     "text": [
      "<class 'pandas.core.frame.DataFrame'>\n",
      "RangeIndex: 20640 entries, 0 to 20639\n",
      "Data columns (total 10 columns):\n",
      "longitude             20640 non-null float64\n",
      "latitude              20640 non-null float64\n",
      "housing_median_age    20640 non-null float64\n",
      "total_rooms           20640 non-null float64\n",
      "total_bedrooms        20433 non-null float64\n",
      "population            20640 non-null float64\n",
      "households            20640 non-null float64\n",
      "median_income         20640 non-null float64\n",
      "median_house_value    20640 non-null float64\n",
      "ocean_proximity       20640 non-null object\n",
      "dtypes: float64(9), object(1)\n",
      "memory usage: 1.6+ MB\n"
     ]
    },
    {
     "data": {
      "text/plain": [
       "(   longitude  latitude  housing_median_age  total_rooms  total_bedrooms  \\\n",
       " 0    -122.23     37.88                41.0        880.0           129.0   \n",
       " 1    -122.22     37.86                21.0       7099.0          1106.0   \n",
       " 2    -122.24     37.85                52.0       1467.0           190.0   \n",
       " 3    -122.25     37.85                52.0       1274.0           235.0   \n",
       " 4    -122.25     37.85                52.0       1627.0           280.0   \n",
       " \n",
       "    population  households  median_income  median_house_value ocean_proximity  \n",
       " 0       322.0       126.0         8.3252            452600.0        NEAR BAY  \n",
       " 1      2401.0      1138.0         8.3014            358500.0        NEAR BAY  \n",
       " 2       496.0       177.0         7.2574            352100.0        NEAR BAY  \n",
       " 3       558.0       219.0         5.6431            341300.0        NEAR BAY  \n",
       " 4       565.0       259.0         3.8462            342200.0        NEAR BAY  ,\n",
       " None)"
      ]
     },
     "execution_count": 16,
     "metadata": {},
     "output_type": "execute_result"
    }
   ],
   "source": [
    "fetch_housing_data()\n",
    "housing = load_housing_data()\n",
    "housing.head(),housing.info()"
   ]
  },
  {
   "cell_type": "code",
   "execution_count": null,
   "metadata": {},
   "outputs": [],
   "source": []
  },
  {
   "cell_type": "code",
   "execution_count": null,
   "metadata": {},
   "outputs": [],
   "source": []
  }
 ],
 "metadata": {
  "kernelspec": {
   "display_name": "Python 3",
   "language": "python",
   "name": "python3"
  },
  "language_info": {
   "codemirror_mode": {
    "name": "ipython",
    "version": 3
   },
   "file_extension": ".py",
   "mimetype": "text/x-python",
   "name": "python",
   "nbconvert_exporter": "python",
   "pygments_lexer": "ipython3",
   "version": "3.7.3"
  }
 },
 "nbformat": 4,
 "nbformat_minor": 2
}
